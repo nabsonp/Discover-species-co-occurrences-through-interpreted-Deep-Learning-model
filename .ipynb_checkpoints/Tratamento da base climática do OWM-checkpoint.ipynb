{
 "cells": [
  {
   "cell_type": "markdown",
   "metadata": {},
   "source": [
    "Base coletada sobre Tefé através da API do OpenWeatherMap (https://openweathermap.org/history) em 04 de abril de 2019."
   ]
  },
  {
   "cell_type": "markdown",
   "metadata": {},
   "source": [
    "## Descrição da base\n",
    "\n",
    "**city_id**: ID da cidade\n",
    "\n",
    "**clima.id**: ID da condição climática\n",
    "\n",
    "**clima.main**: Grupo de parâmetros meteorológicos (chuva, neve, extremo etc.)\n",
    "\n",
    "**clima.descricao**: Condições meteorológicas dentro do grupo\n",
    "\n",
    "**clima.icon**: ID do ícone do tempo\n",
    "\n",
    "**main.temp**: Temperatura. A temperatura é fornecida apenas em Kelvins\n",
    "\n",
    "**main.pressao**: Pressão atmosférica (no nível do mar), hPa\n",
    "\n",
    "**main.humidade**: Umidade,%\n",
    "\n",
    "**main.temp_min**: Temperatura mínima no momento. Este é o desvio da temperatura que é possível para grandes cidades e megalópoles expandidas geograficamente (use esses parâmetros opcionalmente). A temperatura é fornecida apenas em Kelvins.\n",
    "\n",
    "**main.temp_max**: Temperatura máxima no momento. Este é o desvio da temperatura que é possível para grandes cidades e megalópoles expandidas geograficamente (use esses parâmetros opcionalmente). A temperatura é fornecida apenas em Kelvins.\n",
    "\n",
    "**veloc_vento**: Velocidade do vento. Unidade Padrão: metro / seg\n",
    "\n",
    "**vento.dir**: Direção do vento, graus (meteorológicos)\n",
    "\n",
    "**nuvens**: Nebulosidade,%\n",
    "\n",
    "**chuva.3h**: Volume de chuva nas últimas 3 horas\n",
    "\n",
    "**neve.3h**: Volume de neve nas últimas 3 horas\n",
    "\n",
    "**dt**: Hora do cálculo de dados, unix, UTC\n",
    "\n",
    "**dt_iso**: Data e hora no formato UTC\n"
   ]
  },
  {
   "cell_type": "code",
   "execution_count": 126,
   "metadata": {},
   "outputs": [],
   "source": [
    "import numpy as np\n",
    "import pandas as pd\n",
    "import matplotlib.pyplot as plt\n",
    "from sklearn.preprocessing import OneHotEncoder\n",
    "from sklearn.preprocessing import LabelEncoder"
   ]
  },
  {
   "cell_type": "code",
   "execution_count": 127,
   "metadata": {},
   "outputs": [],
   "source": [
    "base = pd.read_csv(\"tefe_01-02-2012_04-04-2019.csv\")"
   ]
  },
  {
   "cell_type": "code",
   "execution_count": 128,
   "metadata": {},
   "outputs": [],
   "source": [
    "base.columns = ['city_id','temp','temp_min','temp_max','pressao','humidade','veloc_vento','vento_deg',\n",
    "               'nuvens','clima_id','clima','clima_desc','clima_icone','data','data_utc','chuva/3h','clima_ID',\n",
    "       'clima_parametros', 'clima_descricao', 'clima_icon']"
   ]
  },
  {
   "cell_type": "code",
   "execution_count": 129,
   "metadata": {},
   "outputs": [
    {
     "data": {
      "text/html": [
       "<div>\n",
       "<style scoped>\n",
       "    .dataframe tbody tr th:only-of-type {\n",
       "        vertical-align: middle;\n",
       "    }\n",
       "\n",
       "    .dataframe tbody tr th {\n",
       "        vertical-align: top;\n",
       "    }\n",
       "\n",
       "    .dataframe thead th {\n",
       "        text-align: right;\n",
       "    }\n",
       "</style>\n",
       "<table border=\"1\" class=\"dataframe\">\n",
       "  <thead>\n",
       "    <tr style=\"text-align: right;\">\n",
       "      <th></th>\n",
       "      <th>city_id</th>\n",
       "      <th>temp</th>\n",
       "      <th>temp_min</th>\n",
       "      <th>temp_max</th>\n",
       "      <th>pressao</th>\n",
       "      <th>humidade</th>\n",
       "      <th>veloc_vento</th>\n",
       "      <th>vento_deg</th>\n",
       "      <th>nuvens</th>\n",
       "      <th>clima_id</th>\n",
       "      <th>clima</th>\n",
       "      <th>clima_desc</th>\n",
       "      <th>clima_icone</th>\n",
       "      <th>data</th>\n",
       "      <th>data_utc</th>\n",
       "      <th>chuva/3h</th>\n",
       "      <th>clima_ID</th>\n",
       "      <th>clima_parametros</th>\n",
       "      <th>clima_descricao</th>\n",
       "      <th>clima_icon</th>\n",
       "    </tr>\n",
       "  </thead>\n",
       "  <tbody>\n",
       "    <tr>\n",
       "      <th>0</th>\n",
       "      <td>3661944</td>\n",
       "      <td>297.15</td>\n",
       "      <td>297.15</td>\n",
       "      <td>308.5</td>\n",
       "      <td>1014</td>\n",
       "      <td>0</td>\n",
       "      <td>7</td>\n",
       "      <td>100</td>\n",
       "      <td>80</td>\n",
       "      <td>501</td>\n",
       "      <td>Rain</td>\n",
       "      <td>moderate rain</td>\n",
       "      <td>10d</td>\n",
       "      <td>1349092800</td>\n",
       "      <td>2012-10-01 12:00:00 +0000 UTC</td>\n",
       "      <td>NaN</td>\n",
       "      <td>NaN</td>\n",
       "      <td>NaN</td>\n",
       "      <td>NaN</td>\n",
       "      <td>NaN</td>\n",
       "    </tr>\n",
       "    <tr>\n",
       "      <th>1</th>\n",
       "      <td>3661944</td>\n",
       "      <td>308.20</td>\n",
       "      <td>302.00</td>\n",
       "      <td>308.5</td>\n",
       "      <td>1013</td>\n",
       "      <td>45</td>\n",
       "      <td>1</td>\n",
       "      <td>39</td>\n",
       "      <td>80</td>\n",
       "      <td>800</td>\n",
       "      <td>Clear</td>\n",
       "      <td>sky is clear</td>\n",
       "      <td>02d</td>\n",
       "      <td>1349100000</td>\n",
       "      <td>2012-10-01 14:00:00 +0000 UTC</td>\n",
       "      <td>NaN</td>\n",
       "      <td>NaN</td>\n",
       "      <td>NaN</td>\n",
       "      <td>NaN</td>\n",
       "      <td>NaN</td>\n",
       "    </tr>\n",
       "    <tr>\n",
       "      <th>2</th>\n",
       "      <td>3661944</td>\n",
       "      <td>295.15</td>\n",
       "      <td>295.15</td>\n",
       "      <td>308.5</td>\n",
       "      <td>1015</td>\n",
       "      <td>100</td>\n",
       "      <td>2</td>\n",
       "      <td>190</td>\n",
       "      <td>75</td>\n",
       "      <td>803</td>\n",
       "      <td>Clouds</td>\n",
       "      <td>broken clouds</td>\n",
       "      <td>04d</td>\n",
       "      <td>1349186400</td>\n",
       "      <td>2012-10-02 14:00:00 +0000 UTC</td>\n",
       "      <td>NaN</td>\n",
       "      <td>NaN</td>\n",
       "      <td>NaN</td>\n",
       "      <td>NaN</td>\n",
       "      <td>NaN</td>\n",
       "    </tr>\n",
       "    <tr>\n",
       "      <th>3</th>\n",
       "      <td>3661944</td>\n",
       "      <td>296.15</td>\n",
       "      <td>296.15</td>\n",
       "      <td>308.5</td>\n",
       "      <td>1014</td>\n",
       "      <td>94</td>\n",
       "      <td>0</td>\n",
       "      <td>0</td>\n",
       "      <td>40</td>\n",
       "      <td>802</td>\n",
       "      <td>Clouds</td>\n",
       "      <td>scattered clouds</td>\n",
       "      <td>03d</td>\n",
       "      <td>1349190000</td>\n",
       "      <td>2012-10-02 15:00:00 +0000 UTC</td>\n",
       "      <td>NaN</td>\n",
       "      <td>NaN</td>\n",
       "      <td>NaN</td>\n",
       "      <td>NaN</td>\n",
       "      <td>NaN</td>\n",
       "    </tr>\n",
       "    <tr>\n",
       "      <th>4</th>\n",
       "      <td>3661944</td>\n",
       "      <td>297.15</td>\n",
       "      <td>297.15</td>\n",
       "      <td>308.5</td>\n",
       "      <td>1014</td>\n",
       "      <td>94</td>\n",
       "      <td>2</td>\n",
       "      <td>250</td>\n",
       "      <td>40</td>\n",
       "      <td>802</td>\n",
       "      <td>Clouds</td>\n",
       "      <td>scattered clouds</td>\n",
       "      <td>03d</td>\n",
       "      <td>1349193600</td>\n",
       "      <td>2012-10-02 16:00:00 +0000 UTC</td>\n",
       "      <td>NaN</td>\n",
       "      <td>NaN</td>\n",
       "      <td>NaN</td>\n",
       "      <td>NaN</td>\n",
       "      <td>NaN</td>\n",
       "    </tr>\n",
       "  </tbody>\n",
       "</table>\n",
       "</div>"
      ],
      "text/plain": [
       "   city_id    temp  temp_min  temp_max  pressao  humidade  veloc_vento  \\\n",
       "0  3661944  297.15    297.15     308.5     1014         0            7   \n",
       "1  3661944  308.20    302.00     308.5     1013        45            1   \n",
       "2  3661944  295.15    295.15     308.5     1015       100            2   \n",
       "3  3661944  296.15    296.15     308.5     1014        94            0   \n",
       "4  3661944  297.15    297.15     308.5     1014        94            2   \n",
       "\n",
       "   vento_deg  nuvens  clima_id   clima        clima_desc clima_icone  \\\n",
       "0        100      80       501    Rain     moderate rain         10d   \n",
       "1         39      80       800   Clear      sky is clear         02d   \n",
       "2        190      75       803  Clouds     broken clouds         04d   \n",
       "3          0      40       802  Clouds  scattered clouds         03d   \n",
       "4        250      40       802  Clouds  scattered clouds         03d   \n",
       "\n",
       "         data                       data_utc  chuva/3h  clima_ID  \\\n",
       "0  1349092800  2012-10-01 12:00:00 +0000 UTC       NaN       NaN   \n",
       "1  1349100000  2012-10-01 14:00:00 +0000 UTC       NaN       NaN   \n",
       "2  1349186400  2012-10-02 14:00:00 +0000 UTC       NaN       NaN   \n",
       "3  1349190000  2012-10-02 15:00:00 +0000 UTC       NaN       NaN   \n",
       "4  1349193600  2012-10-02 16:00:00 +0000 UTC       NaN       NaN   \n",
       "\n",
       "  clima_parametros clima_descricao clima_icon  \n",
       "0              NaN             NaN        NaN  \n",
       "1              NaN             NaN        NaN  \n",
       "2              NaN             NaN        NaN  \n",
       "3              NaN             NaN        NaN  \n",
       "4              NaN             NaN        NaN  "
      ]
     },
     "execution_count": 129,
     "metadata": {},
     "output_type": "execute_result"
    }
   ],
   "source": [
    "base.head()"
   ]
  },
  {
   "cell_type": "code",
   "execution_count": 130,
   "metadata": {
    "scrolled": false
   },
   "outputs": [
    {
     "name": "stdout",
     "output_type": "stream",
     "text": [
      "<class 'pandas.core.frame.DataFrame'>\n",
      "RangeIndex: 48287 entries, 0 to 48286\n",
      "Data columns (total 20 columns):\n",
      "city_id             48287 non-null int64\n",
      "temp                48287 non-null float64\n",
      "temp_min            48287 non-null float64\n",
      "temp_max            48287 non-null float64\n",
      "pressao             48287 non-null int64\n",
      "humidade            48287 non-null int64\n",
      "veloc_vento         48287 non-null int64\n",
      "vento_deg           48287 non-null int64\n",
      "nuvens              48287 non-null int64\n",
      "clima_id            48287 non-null int64\n",
      "clima               48287 non-null object\n",
      "clima_desc          48287 non-null object\n",
      "clima_icone         48287 non-null object\n",
      "data                48287 non-null int64\n",
      "data_utc            48287 non-null object\n",
      "chuva/3h            10612 non-null float64\n",
      "clima_ID            103 non-null float64\n",
      "clima_parametros    103 non-null object\n",
      "clima_descricao     103 non-null object\n",
      "clima_icon          103 non-null object\n",
      "dtypes: float64(5), int64(8), object(7)\n",
      "memory usage: 7.4+ MB\n"
     ]
    }
   ],
   "source": [
    "base.info()"
   ]
  },
  {
   "cell_type": "markdown",
   "metadata": {},
   "source": [
    "### Eliminação das características com poucos dados\n",
    "\n",
    "Como as características 'clima_ID', 'clima_parametros', 'clima_descricao' e 'clima_icon' têm poucos dados, serão eliminadas."
   ]
  },
  {
   "cell_type": "code",
   "execution_count": 131,
   "metadata": {},
   "outputs": [],
   "source": [
    "for c in base.columns:\n",
    "    if base[c].count() < 10000:\n",
    "        base.drop(c,axis=1,inplace=True)"
   ]
  },
  {
   "cell_type": "code",
   "execution_count": 132,
   "metadata": {},
   "outputs": [
    {
     "data": {
      "text/html": [
       "<div>\n",
       "<style scoped>\n",
       "    .dataframe tbody tr th:only-of-type {\n",
       "        vertical-align: middle;\n",
       "    }\n",
       "\n",
       "    .dataframe tbody tr th {\n",
       "        vertical-align: top;\n",
       "    }\n",
       "\n",
       "    .dataframe thead th {\n",
       "        text-align: right;\n",
       "    }\n",
       "</style>\n",
       "<table border=\"1\" class=\"dataframe\">\n",
       "  <thead>\n",
       "    <tr style=\"text-align: right;\">\n",
       "      <th></th>\n",
       "      <th>city_id</th>\n",
       "      <th>temp</th>\n",
       "      <th>temp_min</th>\n",
       "      <th>temp_max</th>\n",
       "      <th>pressao</th>\n",
       "      <th>humidade</th>\n",
       "      <th>veloc_vento</th>\n",
       "      <th>vento_deg</th>\n",
       "      <th>nuvens</th>\n",
       "      <th>clima_id</th>\n",
       "      <th>clima</th>\n",
       "      <th>clima_desc</th>\n",
       "      <th>clima_icone</th>\n",
       "      <th>data</th>\n",
       "      <th>data_utc</th>\n",
       "      <th>chuva/3h</th>\n",
       "    </tr>\n",
       "  </thead>\n",
       "  <tbody>\n",
       "    <tr>\n",
       "      <th>0</th>\n",
       "      <td>3661944</td>\n",
       "      <td>297.15</td>\n",
       "      <td>297.15</td>\n",
       "      <td>308.5</td>\n",
       "      <td>1014</td>\n",
       "      <td>0</td>\n",
       "      <td>7</td>\n",
       "      <td>100</td>\n",
       "      <td>80</td>\n",
       "      <td>501</td>\n",
       "      <td>Rain</td>\n",
       "      <td>moderate rain</td>\n",
       "      <td>10d</td>\n",
       "      <td>1349092800</td>\n",
       "      <td>2012-10-01 12:00:00 +0000 UTC</td>\n",
       "      <td>NaN</td>\n",
       "    </tr>\n",
       "    <tr>\n",
       "      <th>1</th>\n",
       "      <td>3661944</td>\n",
       "      <td>308.20</td>\n",
       "      <td>302.00</td>\n",
       "      <td>308.5</td>\n",
       "      <td>1013</td>\n",
       "      <td>45</td>\n",
       "      <td>1</td>\n",
       "      <td>39</td>\n",
       "      <td>80</td>\n",
       "      <td>800</td>\n",
       "      <td>Clear</td>\n",
       "      <td>sky is clear</td>\n",
       "      <td>02d</td>\n",
       "      <td>1349100000</td>\n",
       "      <td>2012-10-01 14:00:00 +0000 UTC</td>\n",
       "      <td>NaN</td>\n",
       "    </tr>\n",
       "    <tr>\n",
       "      <th>2</th>\n",
       "      <td>3661944</td>\n",
       "      <td>295.15</td>\n",
       "      <td>295.15</td>\n",
       "      <td>308.5</td>\n",
       "      <td>1015</td>\n",
       "      <td>100</td>\n",
       "      <td>2</td>\n",
       "      <td>190</td>\n",
       "      <td>75</td>\n",
       "      <td>803</td>\n",
       "      <td>Clouds</td>\n",
       "      <td>broken clouds</td>\n",
       "      <td>04d</td>\n",
       "      <td>1349186400</td>\n",
       "      <td>2012-10-02 14:00:00 +0000 UTC</td>\n",
       "      <td>NaN</td>\n",
       "    </tr>\n",
       "    <tr>\n",
       "      <th>3</th>\n",
       "      <td>3661944</td>\n",
       "      <td>296.15</td>\n",
       "      <td>296.15</td>\n",
       "      <td>308.5</td>\n",
       "      <td>1014</td>\n",
       "      <td>94</td>\n",
       "      <td>0</td>\n",
       "      <td>0</td>\n",
       "      <td>40</td>\n",
       "      <td>802</td>\n",
       "      <td>Clouds</td>\n",
       "      <td>scattered clouds</td>\n",
       "      <td>03d</td>\n",
       "      <td>1349190000</td>\n",
       "      <td>2012-10-02 15:00:00 +0000 UTC</td>\n",
       "      <td>NaN</td>\n",
       "    </tr>\n",
       "    <tr>\n",
       "      <th>4</th>\n",
       "      <td>3661944</td>\n",
       "      <td>297.15</td>\n",
       "      <td>297.15</td>\n",
       "      <td>308.5</td>\n",
       "      <td>1014</td>\n",
       "      <td>94</td>\n",
       "      <td>2</td>\n",
       "      <td>250</td>\n",
       "      <td>40</td>\n",
       "      <td>802</td>\n",
       "      <td>Clouds</td>\n",
       "      <td>scattered clouds</td>\n",
       "      <td>03d</td>\n",
       "      <td>1349193600</td>\n",
       "      <td>2012-10-02 16:00:00 +0000 UTC</td>\n",
       "      <td>NaN</td>\n",
       "    </tr>\n",
       "  </tbody>\n",
       "</table>\n",
       "</div>"
      ],
      "text/plain": [
       "   city_id    temp  temp_min  temp_max  pressao  humidade  veloc_vento  \\\n",
       "0  3661944  297.15    297.15     308.5     1014         0            7   \n",
       "1  3661944  308.20    302.00     308.5     1013        45            1   \n",
       "2  3661944  295.15    295.15     308.5     1015       100            2   \n",
       "3  3661944  296.15    296.15     308.5     1014        94            0   \n",
       "4  3661944  297.15    297.15     308.5     1014        94            2   \n",
       "\n",
       "   vento_deg  nuvens  clima_id   clima        clima_desc clima_icone  \\\n",
       "0        100      80       501    Rain     moderate rain         10d   \n",
       "1         39      80       800   Clear      sky is clear         02d   \n",
       "2        190      75       803  Clouds     broken clouds         04d   \n",
       "3          0      40       802  Clouds  scattered clouds         03d   \n",
       "4        250      40       802  Clouds  scattered clouds         03d   \n",
       "\n",
       "         data                       data_utc  chuva/3h  \n",
       "0  1349092800  2012-10-01 12:00:00 +0000 UTC       NaN  \n",
       "1  1349100000  2012-10-01 14:00:00 +0000 UTC       NaN  \n",
       "2  1349186400  2012-10-02 14:00:00 +0000 UTC       NaN  \n",
       "3  1349190000  2012-10-02 15:00:00 +0000 UTC       NaN  \n",
       "4  1349193600  2012-10-02 16:00:00 +0000 UTC       NaN  "
      ]
     },
     "execution_count": 132,
     "metadata": {},
     "output_type": "execute_result"
    }
   ],
   "source": [
    "base.head()"
   ]
  },
  {
   "cell_type": "code",
   "execution_count": 133,
   "metadata": {},
   "outputs": [],
   "source": [
    "# Não carregam informações relevantes\n",
    "base.drop('city_id',axis=1, inplace=True)\n",
    "base.drop('vento_deg',axis=1, inplace=True)\n",
    "base.drop('clima_id',axis=1, inplace=True)\n",
    "base.drop('clima_icone',axis=1, inplace=True)\n",
    "base.drop('clima_desc',axis=1, inplace=True)\n",
    "# Temperatura min e max são iguais a que já está aí\n",
    "base.drop('temp_max',axis=1, inplace=True)\n",
    "base.drop('temp_min',axis=1, inplace=True)"
   ]
  },
  {
   "cell_type": "code",
   "execution_count": 134,
   "metadata": {},
   "outputs": [],
   "source": [
    "# Melhorando algumas características\n",
    "base['chuva/3h'].fillna(0,inplace=True) # Melhor cortar? Pq se choveu e eu não sei não tenho como dizer\n",
    "base['data'] = base['data_utc'].str[:10].str.replace('-','').astype('int')\n",
    "base['hora'] = base['data_utc'].str[10:13].astype('int')\n",
    "base.drop('data_utc',axis=1, inplace=True)"
   ]
  },
  {
   "cell_type": "code",
   "execution_count": 135,
   "metadata": {},
   "outputs": [],
   "source": [
    "# Convertendo Temperatura de Kelvins a Celsius\n",
    "base['temp'] = base['temp'] - 273"
   ]
  },
  {
   "cell_type": "code",
   "execution_count": 136,
   "metadata": {
    "scrolled": true
   },
   "outputs": [
    {
     "name": "stdout",
     "output_type": "stream",
     "text": [
      "<class 'pandas.core.frame.DataFrame'>\n",
      "RangeIndex: 48287 entries, 0 to 48286\n",
      "Data columns (total 9 columns):\n",
      "temp           48287 non-null float64\n",
      "pressao        48287 non-null int64\n",
      "humidade       48287 non-null int64\n",
      "veloc_vento    48287 non-null int64\n",
      "nuvens         48287 non-null int64\n",
      "clima          48287 non-null object\n",
      "data           48287 non-null int64\n",
      "chuva/3h       48287 non-null float64\n",
      "hora           48287 non-null int64\n",
      "dtypes: float64(2), int64(6), object(1)\n",
      "memory usage: 3.3+ MB\n"
     ]
    }
   ],
   "source": [
    "base.info()"
   ]
  },
  {
   "cell_type": "code",
   "execution_count": 137,
   "metadata": {},
   "outputs": [
    {
     "data": {
      "text/plain": [
       "{'Clear', 'Clouds', 'Drizzle', 'Fog', 'Mist', 'Rain', 'Smoke', 'Thunderstorm'}"
      ]
     },
     "execution_count": 137,
     "metadata": {},
     "output_type": "execute_result"
    }
   ],
   "source": [
    "set(base['clima'])"
   ]
  },
  {
   "cell_type": "markdown",
   "metadata": {},
   "source": [
    "### Análise dos dados"
   ]
  },
  {
   "cell_type": "code",
   "execution_count": 138,
   "metadata": {},
   "outputs": [
    {
     "data": {
      "text/html": [
       "<div>\n",
       "<style scoped>\n",
       "    .dataframe tbody tr th:only-of-type {\n",
       "        vertical-align: middle;\n",
       "    }\n",
       "\n",
       "    .dataframe tbody tr th {\n",
       "        vertical-align: top;\n",
       "    }\n",
       "\n",
       "    .dataframe thead th {\n",
       "        text-align: right;\n",
       "    }\n",
       "</style>\n",
       "<table border=\"1\" class=\"dataframe\">\n",
       "  <thead>\n",
       "    <tr style=\"text-align: right;\">\n",
       "      <th></th>\n",
       "      <th>temp</th>\n",
       "      <th>pressao</th>\n",
       "      <th>humidade</th>\n",
       "      <th>veloc_vento</th>\n",
       "      <th>nuvens</th>\n",
       "      <th>chuva/3h</th>\n",
       "    </tr>\n",
       "  </thead>\n",
       "  <tbody>\n",
       "    <tr>\n",
       "      <th>count</th>\n",
       "      <td>48287.000000</td>\n",
       "      <td>48287.000000</td>\n",
       "      <td>48287.000000</td>\n",
       "      <td>48287.000000</td>\n",
       "      <td>48287.000000</td>\n",
       "      <td>48287.000000</td>\n",
       "    </tr>\n",
       "    <tr>\n",
       "      <th>mean</th>\n",
       "      <td>26.947145</td>\n",
       "      <td>1012.896597</td>\n",
       "      <td>84.481144</td>\n",
       "      <td>1.405306</td>\n",
       "      <td>44.343674</td>\n",
       "      <td>0.456578</td>\n",
       "    </tr>\n",
       "    <tr>\n",
       "      <th>std</th>\n",
       "      <td>3.844888</td>\n",
       "      <td>39.536623</td>\n",
       "      <td>13.489834</td>\n",
       "      <td>0.936261</td>\n",
       "      <td>28.586092</td>\n",
       "      <td>1.962719</td>\n",
       "    </tr>\n",
       "    <tr>\n",
       "      <th>min</th>\n",
       "      <td>-273.000000</td>\n",
       "      <td>0.000000</td>\n",
       "      <td>0.000000</td>\n",
       "      <td>0.000000</td>\n",
       "      <td>0.000000</td>\n",
       "      <td>0.000000</td>\n",
       "    </tr>\n",
       "    <tr>\n",
       "      <th>25%</th>\n",
       "      <td>24.292500</td>\n",
       "      <td>1011.000000</td>\n",
       "      <td>74.000000</td>\n",
       "      <td>1.000000</td>\n",
       "      <td>20.000000</td>\n",
       "      <td>0.000000</td>\n",
       "    </tr>\n",
       "    <tr>\n",
       "      <th>50%</th>\n",
       "      <td>26.150000</td>\n",
       "      <td>1014.000000</td>\n",
       "      <td>88.000000</td>\n",
       "      <td>1.000000</td>\n",
       "      <td>40.000000</td>\n",
       "      <td>0.000000</td>\n",
       "    </tr>\n",
       "    <tr>\n",
       "      <th>75%</th>\n",
       "      <td>29.150000</td>\n",
       "      <td>1018.000000</td>\n",
       "      <td>95.000000</td>\n",
       "      <td>2.000000</td>\n",
       "      <td>75.000000</td>\n",
       "      <td>0.000000</td>\n",
       "    </tr>\n",
       "    <tr>\n",
       "      <th>max</th>\n",
       "      <td>39.952000</td>\n",
       "      <td>1028.000000</td>\n",
       "      <td>100.000000</td>\n",
       "      <td>13.000000</td>\n",
       "      <td>100.000000</td>\n",
       "      <td>52.500000</td>\n",
       "    </tr>\n",
       "  </tbody>\n",
       "</table>\n",
       "</div>"
      ],
      "text/plain": [
       "               temp       pressao      humidade   veloc_vento        nuvens  \\\n",
       "count  48287.000000  48287.000000  48287.000000  48287.000000  48287.000000   \n",
       "mean      26.947145   1012.896597     84.481144      1.405306     44.343674   \n",
       "std        3.844888     39.536623     13.489834      0.936261     28.586092   \n",
       "min     -273.000000      0.000000      0.000000      0.000000      0.000000   \n",
       "25%       24.292500   1011.000000     74.000000      1.000000     20.000000   \n",
       "50%       26.150000   1014.000000     88.000000      1.000000     40.000000   \n",
       "75%       29.150000   1018.000000     95.000000      2.000000     75.000000   \n",
       "max       39.952000   1028.000000    100.000000     13.000000    100.000000   \n",
       "\n",
       "           chuva/3h  \n",
       "count  48287.000000  \n",
       "mean       0.456578  \n",
       "std        1.962719  \n",
       "min        0.000000  \n",
       "25%        0.000000  \n",
       "50%        0.000000  \n",
       "75%        0.000000  \n",
       "max       52.500000  "
      ]
     },
     "execution_count": 138,
     "metadata": {},
     "output_type": "execute_result"
    }
   ],
   "source": [
    "base.drop(['data','hora'],axis=1).describe()"
   ]
  },
  {
   "cell_type": "code",
   "execution_count": 139,
   "metadata": {},
   "outputs": [
    {
     "data": {
      "text/html": [
       "<div>\n",
       "<style scoped>\n",
       "    .dataframe tbody tr th:only-of-type {\n",
       "        vertical-align: middle;\n",
       "    }\n",
       "\n",
       "    .dataframe tbody tr th {\n",
       "        vertical-align: top;\n",
       "    }\n",
       "\n",
       "    .dataframe thead th {\n",
       "        text-align: right;\n",
       "    }\n",
       "</style>\n",
       "<table border=\"1\" class=\"dataframe\">\n",
       "  <thead>\n",
       "    <tr style=\"text-align: right;\">\n",
       "      <th></th>\n",
       "      <th>temp</th>\n",
       "      <th>pressao</th>\n",
       "      <th>humidade</th>\n",
       "      <th>veloc_vento</th>\n",
       "      <th>nuvens</th>\n",
       "      <th>clima</th>\n",
       "      <th>data</th>\n",
       "      <th>chuva/3h</th>\n",
       "      <th>hora</th>\n",
       "    </tr>\n",
       "  </thead>\n",
       "  <tbody>\n",
       "    <tr>\n",
       "      <th>3769</th>\n",
       "      <td>-273.0</td>\n",
       "      <td>0</td>\n",
       "      <td>0</td>\n",
       "      <td>0</td>\n",
       "      <td>0</td>\n",
       "      <td>Clear</td>\n",
       "      <td>20130412</td>\n",
       "      <td>0.0</td>\n",
       "      <td>3</td>\n",
       "    </tr>\n",
       "    <tr>\n",
       "      <th>3770</th>\n",
       "      <td>-273.0</td>\n",
       "      <td>0</td>\n",
       "      <td>0</td>\n",
       "      <td>0</td>\n",
       "      <td>0</td>\n",
       "      <td>Clear</td>\n",
       "      <td>20130412</td>\n",
       "      <td>0.0</td>\n",
       "      <td>4</td>\n",
       "    </tr>\n",
       "  </tbody>\n",
       "</table>\n",
       "</div>"
      ],
      "text/plain": [
       "       temp  pressao  humidade  veloc_vento  nuvens  clima      data  \\\n",
       "3769 -273.0        0         0            0       0  Clear  20130412   \n",
       "3770 -273.0        0         0            0       0  Clear  20130412   \n",
       "\n",
       "      chuva/3h  hora  \n",
       "3769       0.0     3  \n",
       "3770       0.0     4  "
      ]
     },
     "execution_count": 139,
     "metadata": {},
     "output_type": "execute_result"
    }
   ],
   "source": [
    "base[base['temp']==-273]"
   ]
  },
  {
   "cell_type": "code",
   "execution_count": 140,
   "metadata": {
    "scrolled": true
   },
   "outputs": [],
   "source": [
    "base.drop(3769,axis=0,inplace=True)\n",
    "base.drop(3770,axis=0,inplace=True)"
   ]
  },
  {
   "cell_type": "code",
   "execution_count": 141,
   "metadata": {},
   "outputs": [
    {
     "data": {
      "text/plain": [
       "<matplotlib.axes._subplots.AxesSubplot at 0x7f12cae4e198>"
      ]
     },
     "execution_count": 141,
     "metadata": {},
     "output_type": "execute_result"
    },
    {
     "data": {
      "image/png": "[encoded data removed]",
      "text/plain": [
       "<Figure size 432x288 with 1 Axes>"
      ]
     },
     "metadata": {
      "needs_background": "light"
     },
     "output_type": "display_data"
    }
   ],
   "source": [
    "base['temp'].hist()"
   ]
  },
  {
   "cell_type": "code",
   "execution_count": 142,
   "metadata": {},
   "outputs": [],
   "source": [
    "# Eliminar as pressões iguais a zero, consideradas outliers\n",
    "inds =[x for x in base.index if (base.loc[x]['pressao']==0)]\n",
    "base.drop(inds,axis=0,inplace=True)"
   ]
  },
  {
   "cell_type": "code",
   "execution_count": 143,
   "metadata": {},
   "outputs": [
    {
     "data": {
      "text/plain": [
       "<matplotlib.axes._subplots.AxesSubplot at 0x7f12cb083f98>"
      ]
     },
     "execution_count": 143,
     "metadata": {},
     "output_type": "execute_result"
    },
    {
     "data": {
      "image/png": "[encoded data removed]",
      "text/plain": [
       "<Figure size 432x288 with 1 Axes>"
      ]
     },
     "metadata": {
      "needs_background": "light"
     },
     "output_type": "display_data"
    }
   ],
   "source": [
    "base['pressao'].hist()"
   ]
  },
  {
   "cell_type": "code",
   "execution_count": 144,
   "metadata": {},
   "outputs": [
    {
     "data": {
      "text/plain": [
       "<matplotlib.axes._subplots.AxesSubplot at 0x7f12cb107e80>"
      ]
     },
     "execution_count": 144,
     "metadata": {},
     "output_type": "execute_result"
    },
    {
     "data": {
      "image/png": "[encoded data removed]",
      "text/plain": [
       "<Figure size 432x288 with 1 Axes>"
      ]
     },
     "metadata": {
      "needs_background": "light"
     },
     "output_type": "display_data"
    }
   ],
   "source": [
    "base['humidade'].hist()"
   ]
  },
  {
   "cell_type": "code",
   "execution_count": 145,
   "metadata": {},
   "outputs": [],
   "source": [
    "# Eliminar as pressões iguais a zero, consideradas outliers\n",
    "inds =[x for x in base.index if (base.loc[x]['humidade']==0)]\n",
    "base.drop(inds,axis=0,inplace=True)"
   ]
  },
  {
   "cell_type": "code",
   "execution_count": 146,
   "metadata": {},
   "outputs": [
    {
     "data": {
      "text/plain": [
       "<matplotlib.axes._subplots.AxesSubplot at 0x7f12cb071e48>"
      ]
     },
     "execution_count": 146,
     "metadata": {},
     "output_type": "execute_result"
    },
    {
     "data": {
      "image/png": "[encoded data removed]",
      "text/plain": [
       "<Figure size 432x288 with 1 Axes>"
      ]
     },
     "metadata": {
      "needs_background": "light"
     },
     "output_type": "display_data"
    }
   ],
   "source": [
    "base['chuva/3h'].hist()"
   ]
  },
  {
   "cell_type": "code",
   "execution_count": 147,
   "metadata": {
    "scrolled": false
   },
   "outputs": [
    {
     "data": {
      "text/html": [
       "<div>\n",
       "<style scoped>\n",
       "    .dataframe tbody tr th:only-of-type {\n",
       "        vertical-align: middle;\n",
       "    }\n",
       "\n",
       "    .dataframe tbody tr th {\n",
       "        vertical-align: top;\n",
       "    }\n",
       "\n",
       "    .dataframe thead th {\n",
       "        text-align: right;\n",
       "    }\n",
       "</style>\n",
       "<table border=\"1\" class=\"dataframe\">\n",
       "  <thead>\n",
       "    <tr style=\"text-align: right;\">\n",
       "      <th></th>\n",
       "      <th>temp</th>\n",
       "      <th>pressao</th>\n",
       "      <th>humidade</th>\n",
       "      <th>veloc_vento</th>\n",
       "      <th>nuvens</th>\n",
       "      <th>clima</th>\n",
       "      <th>data</th>\n",
       "      <th>chuva/3h</th>\n",
       "      <th>hora</th>\n",
       "    </tr>\n",
       "  </thead>\n",
       "  <tbody>\n",
       "    <tr>\n",
       "      <th>11216</th>\n",
       "      <td>22.452</td>\n",
       "      <td>1020</td>\n",
       "      <td>99</td>\n",
       "      <td>1</td>\n",
       "      <td>88</td>\n",
       "      <td>Rain</td>\n",
       "      <td>20140726</td>\n",
       "      <td>52.0</td>\n",
       "      <td>6</td>\n",
       "    </tr>\n",
       "    <tr>\n",
       "      <th>11219</th>\n",
       "      <td>22.509</td>\n",
       "      <td>1020</td>\n",
       "      <td>99</td>\n",
       "      <td>1</td>\n",
       "      <td>88</td>\n",
       "      <td>Rain</td>\n",
       "      <td>20140726</td>\n",
       "      <td>52.5</td>\n",
       "      <td>9</td>\n",
       "    </tr>\n",
       "    <tr>\n",
       "      <th>14565</th>\n",
       "      <td>25.776</td>\n",
       "      <td>1019</td>\n",
       "      <td>87</td>\n",
       "      <td>2</td>\n",
       "      <td>80</td>\n",
       "      <td>Rain</td>\n",
       "      <td>20150110</td>\n",
       "      <td>52.5</td>\n",
       "      <td>1</td>\n",
       "    </tr>\n",
       "  </tbody>\n",
       "</table>\n",
       "</div>"
      ],
      "text/plain": [
       "         temp  pressao  humidade  veloc_vento  nuvens clima      data  \\\n",
       "11216  22.452     1020        99            1      88  Rain  20140726   \n",
       "11219  22.509     1020        99            1      88  Rain  20140726   \n",
       "14565  25.776     1019        87            2      80  Rain  20150110   \n",
       "\n",
       "       chuva/3h  hora  \n",
       "11216      52.0     6  \n",
       "11219      52.5     9  \n",
       "14565      52.5     1  "
      ]
     },
     "execution_count": 147,
     "metadata": {},
     "output_type": "execute_result"
    }
   ],
   "source": [
    "base[base['chuva/3h']>50]"
   ]
  },
  {
   "cell_type": "code",
   "execution_count": 148,
   "metadata": {},
   "outputs": [
    {
     "data": {
      "text/html": [
       "<div>\n",
       "<style scoped>\n",
       "    .dataframe tbody tr th:only-of-type {\n",
       "        vertical-align: middle;\n",
       "    }\n",
       "\n",
       "    .dataframe tbody tr th {\n",
       "        vertical-align: top;\n",
       "    }\n",
       "\n",
       "    .dataframe thead th {\n",
       "        text-align: right;\n",
       "    }\n",
       "</style>\n",
       "<table border=\"1\" class=\"dataframe\">\n",
       "  <thead>\n",
       "    <tr style=\"text-align: right;\">\n",
       "      <th></th>\n",
       "      <th>temp</th>\n",
       "      <th>pressao</th>\n",
       "      <th>humidade</th>\n",
       "      <th>veloc_vento</th>\n",
       "      <th>nuvens</th>\n",
       "      <th>chuva/3h</th>\n",
       "    </tr>\n",
       "  </thead>\n",
       "  <tbody>\n",
       "    <tr>\n",
       "      <th>count</th>\n",
       "      <td>48205.000000</td>\n",
       "      <td>48205.000000</td>\n",
       "      <td>48205.000000</td>\n",
       "      <td>48205.000000</td>\n",
       "      <td>48205.000000</td>\n",
       "      <td>48205.000000</td>\n",
       "    </tr>\n",
       "    <tr>\n",
       "      <th>mean</th>\n",
       "      <td>26.962157</td>\n",
       "      <td>1014.387657</td>\n",
       "      <td>84.496484</td>\n",
       "      <td>1.404315</td>\n",
       "      <td>44.297811</td>\n",
       "      <td>0.457197</td>\n",
       "    </tr>\n",
       "    <tr>\n",
       "      <th>std</th>\n",
       "      <td>3.326409</td>\n",
       "      <td>7.240884</td>\n",
       "      <td>13.406934</td>\n",
       "      <td>0.933254</td>\n",
       "      <td>28.567007</td>\n",
       "      <td>1.964030</td>\n",
       "    </tr>\n",
       "    <tr>\n",
       "      <th>min</th>\n",
       "      <td>18.150000</td>\n",
       "      <td>100.000000</td>\n",
       "      <td>18.000000</td>\n",
       "      <td>0.000000</td>\n",
       "      <td>0.000000</td>\n",
       "      <td>0.000000</td>\n",
       "    </tr>\n",
       "    <tr>\n",
       "      <th>25%</th>\n",
       "      <td>24.295000</td>\n",
       "      <td>1011.000000</td>\n",
       "      <td>74.000000</td>\n",
       "      <td>1.000000</td>\n",
       "      <td>20.000000</td>\n",
       "      <td>0.000000</td>\n",
       "    </tr>\n",
       "    <tr>\n",
       "      <th>50%</th>\n",
       "      <td>26.150000</td>\n",
       "      <td>1015.000000</td>\n",
       "      <td>88.000000</td>\n",
       "      <td>1.000000</td>\n",
       "      <td>40.000000</td>\n",
       "      <td>0.000000</td>\n",
       "    </tr>\n",
       "    <tr>\n",
       "      <th>75%</th>\n",
       "      <td>29.150000</td>\n",
       "      <td>1018.000000</td>\n",
       "      <td>95.000000</td>\n",
       "      <td>2.000000</td>\n",
       "      <td>75.000000</td>\n",
       "      <td>0.000000</td>\n",
       "    </tr>\n",
       "    <tr>\n",
       "      <th>max</th>\n",
       "      <td>39.952000</td>\n",
       "      <td>1028.000000</td>\n",
       "      <td>100.000000</td>\n",
       "      <td>13.000000</td>\n",
       "      <td>100.000000</td>\n",
       "      <td>52.500000</td>\n",
       "    </tr>\n",
       "  </tbody>\n",
       "</table>\n",
       "</div>"
      ],
      "text/plain": [
       "               temp       pressao      humidade   veloc_vento        nuvens  \\\n",
       "count  48205.000000  48205.000000  48205.000000  48205.000000  48205.000000   \n",
       "mean      26.962157   1014.387657     84.496484      1.404315     44.297811   \n",
       "std        3.326409      7.240884     13.406934      0.933254     28.567007   \n",
       "min       18.150000    100.000000     18.000000      0.000000      0.000000   \n",
       "25%       24.295000   1011.000000     74.000000      1.000000     20.000000   \n",
       "50%       26.150000   1015.000000     88.000000      1.000000     40.000000   \n",
       "75%       29.150000   1018.000000     95.000000      2.000000     75.000000   \n",
       "max       39.952000   1028.000000    100.000000     13.000000    100.000000   \n",
       "\n",
       "           chuva/3h  \n",
       "count  48205.000000  \n",
       "mean       0.457197  \n",
       "std        1.964030  \n",
       "min        0.000000  \n",
       "25%        0.000000  \n",
       "50%        0.000000  \n",
       "75%        0.000000  \n",
       "max       52.500000  "
      ]
     },
     "execution_count": 148,
     "metadata": {},
     "output_type": "execute_result"
    }
   ],
   "source": [
    "base.drop(['data','hora'],axis=1).describe()"
   ]
  },
  {
   "cell_type": "markdown",
   "metadata": {},
   "source": [
    "### Média das medidas no dia"
   ]
  },
  {
   "cell_type": "code",
   "execution_count": 149,
   "metadata": {},
   "outputs": [],
   "source": [
    "clima = base[['data','clima']]"
   ]
  },
  {
   "cell_type": "code",
   "execution_count": 150,
   "metadata": {},
   "outputs": [],
   "source": [
    "base = base.groupby('data').mean()"
   ]
  },
  {
   "cell_type": "code",
   "execution_count": 151,
   "metadata": {},
   "outputs": [],
   "source": [
    "base['data'] = base.index\n",
    "base = base.reset_index(drop=True)"
   ]
  },
  {
   "cell_type": "markdown",
   "metadata": {},
   "source": [
    "### Característia 'clima' tratada com OneHot"
   ]
  },
  {
   "cell_type": "code",
   "execution_count": 152,
   "metadata": {},
   "outputs": [
    {
     "name": "stdout",
     "output_type": "stream",
     "text": [
      "<class 'pandas.core.frame.DataFrame'>\n",
      "RangeIndex: 2232 entries, 0 to 2231\n",
      "Data columns (total 8 columns):\n",
      "temp           2232 non-null float64\n",
      "pressao        2232 non-null float64\n",
      "humidade       2232 non-null float64\n",
      "veloc_vento    2232 non-null float64\n",
      "nuvens         2232 non-null float64\n",
      "chuva/3h       2232 non-null float64\n",
      "hora           2232 non-null float64\n",
      "data           2232 non-null int64\n",
      "dtypes: float64(7), int64(1)\n",
      "memory usage: 139.6 KB\n"
     ]
    }
   ],
   "source": [
    "base.info()"
   ]
  },
  {
   "cell_type": "code",
   "execution_count": 153,
   "metadata": {},
   "outputs": [
    {
     "data": {
      "text/html": [
       "<div>\n",
       "<style scoped>\n",
       "    .dataframe tbody tr th:only-of-type {\n",
       "        vertical-align: middle;\n",
       "    }\n",
       "\n",
       "    .dataframe tbody tr th {\n",
       "        vertical-align: top;\n",
       "    }\n",
       "\n",
       "    .dataframe thead th {\n",
       "        text-align: right;\n",
       "    }\n",
       "</style>\n",
       "<table border=\"1\" class=\"dataframe\">\n",
       "  <thead>\n",
       "    <tr style=\"text-align: right;\">\n",
       "      <th></th>\n",
       "      <th>temp</th>\n",
       "      <th>pressao</th>\n",
       "      <th>humidade</th>\n",
       "      <th>veloc_vento</th>\n",
       "      <th>nuvens</th>\n",
       "      <th>chuva/3h</th>\n",
       "      <th>hora</th>\n",
       "      <th>data</th>\n",
       "    </tr>\n",
       "  </thead>\n",
       "  <tbody>\n",
       "    <tr>\n",
       "      <th>0</th>\n",
       "      <td>35.200000</td>\n",
       "      <td>1013.000000</td>\n",
       "      <td>45.000000</td>\n",
       "      <td>1.000000</td>\n",
       "      <td>80.000000</td>\n",
       "      <td>0.0</td>\n",
       "      <td>14.000000</td>\n",
       "      <td>20121001</td>\n",
       "    </tr>\n",
       "    <tr>\n",
       "      <th>1</th>\n",
       "      <td>25.525000</td>\n",
       "      <td>1011.250000</td>\n",
       "      <td>86.750000</td>\n",
       "      <td>1.000000</td>\n",
       "      <td>48.125000</td>\n",
       "      <td>0.0</td>\n",
       "      <td>18.250000</td>\n",
       "      <td>20121002</td>\n",
       "    </tr>\n",
       "    <tr>\n",
       "      <th>2</th>\n",
       "      <td>28.836500</td>\n",
       "      <td>1011.850000</td>\n",
       "      <td>71.500000</td>\n",
       "      <td>0.950000</td>\n",
       "      <td>59.250000</td>\n",
       "      <td>0.0</td>\n",
       "      <td>11.300000</td>\n",
       "      <td>20121003</td>\n",
       "    </tr>\n",
       "    <tr>\n",
       "      <th>3</th>\n",
       "      <td>30.363478</td>\n",
       "      <td>1011.695652</td>\n",
       "      <td>69.782609</td>\n",
       "      <td>0.956522</td>\n",
       "      <td>44.782609</td>\n",
       "      <td>0.0</td>\n",
       "      <td>12.000000</td>\n",
       "      <td>20121004</td>\n",
       "    </tr>\n",
       "    <tr>\n",
       "      <th>4</th>\n",
       "      <td>30.034444</td>\n",
       "      <td>1011.277778</td>\n",
       "      <td>68.611111</td>\n",
       "      <td>1.666667</td>\n",
       "      <td>52.777778</td>\n",
       "      <td>0.0</td>\n",
       "      <td>11.611111</td>\n",
       "      <td>20121005</td>\n",
       "    </tr>\n",
       "  </tbody>\n",
       "</table>\n",
       "</div>"
      ],
      "text/plain": [
       "        temp      pressao   humidade  veloc_vento     nuvens  chuva/3h  \\\n",
       "0  35.200000  1013.000000  45.000000     1.000000  80.000000       0.0   \n",
       "1  25.525000  1011.250000  86.750000     1.000000  48.125000       0.0   \n",
       "2  28.836500  1011.850000  71.500000     0.950000  59.250000       0.0   \n",
       "3  30.363478  1011.695652  69.782609     0.956522  44.782609       0.0   \n",
       "4  30.034444  1011.277778  68.611111     1.666667  52.777778       0.0   \n",
       "\n",
       "        hora      data  \n",
       "0  14.000000  20121001  \n",
       "1  18.250000  20121002  \n",
       "2  11.300000  20121003  \n",
       "3  12.000000  20121004  \n",
       "4  11.611111  20121005  "
      ]
     },
     "execution_count": 153,
     "metadata": {},
     "output_type": "execute_result"
    }
   ],
   "source": [
    "base.head()"
   ]
  },
  {
   "cell_type": "code",
   "execution_count": 156,
   "metadata": {
    "scrolled": false
   },
   "outputs": [],
   "source": [
    "# método usado em variáveis qualitativas nominais, para não criar uma ordem substituindo por números apenas\n",
    "OH_encoder = OneHotEncoder(sparse=False)\n",
    "clima_OH = pd.DataFrame(OH_encoder.fit_transform(np.array(clima['clima']).reshape(-1, 1)))\n",
    "clima_OH = pd.concat([clima['data'],clima_OH],axis=1)\n",
    "# Coloco na base apenas a informação binária de haver ou não ocorrido o clima\n",
    "clima_OH = clima_OH.groupby('data').max()\n",
    "clima_OH = clima_OH.reset_index(drop=True)\n",
    "base_OH = pd.concat([base,clima_OH],axis=1)"
   ]
  },
  {
   "cell_type": "code",
   "execution_count": 160,
   "metadata": {},
   "outputs": [],
   "source": [
    "a = np.array(base_OH.columns)\n",
    "a[8:]=OH_encoder.categories_[0]\n",
    "base_OH.columns = a"
   ]
  },
  {
   "cell_type": "code",
   "execution_count": 161,
   "metadata": {
    "scrolled": true
   },
   "outputs": [
    {
     "data": {
      "text/html": [
       "<div>\n",
       "<style scoped>\n",
       "    .dataframe tbody tr th:only-of-type {\n",
       "        vertical-align: middle;\n",
       "    }\n",
       "\n",
       "    .dataframe tbody tr th {\n",
       "        vertical-align: top;\n",
       "    }\n",
       "\n",
       "    .dataframe thead th {\n",
       "        text-align: right;\n",
       "    }\n",
       "</style>\n",
       "<table border=\"1\" class=\"dataframe\">\n",
       "  <thead>\n",
       "    <tr style=\"text-align: right;\">\n",
       "      <th></th>\n",
       "      <th>temp</th>\n",
       "      <th>pressao</th>\n",
       "      <th>humidade</th>\n",
       "      <th>veloc_vento</th>\n",
       "      <th>nuvens</th>\n",
       "      <th>chuva/3h</th>\n",
       "      <th>hora</th>\n",
       "      <th>data</th>\n",
       "      <th>Clear</th>\n",
       "      <th>Clouds</th>\n",
       "      <th>Drizzle</th>\n",
       "      <th>Fog</th>\n",
       "      <th>Mist</th>\n",
       "      <th>Rain</th>\n",
       "      <th>Smoke</th>\n",
       "      <th>Thunderstorm</th>\n",
       "    </tr>\n",
       "  </thead>\n",
       "  <tbody>\n",
       "    <tr>\n",
       "      <th>0</th>\n",
       "      <td>35.200000</td>\n",
       "      <td>1013.000000</td>\n",
       "      <td>45.000000</td>\n",
       "      <td>1.000000</td>\n",
       "      <td>80.000000</td>\n",
       "      <td>0.0</td>\n",
       "      <td>14.000000</td>\n",
       "      <td>20121001</td>\n",
       "      <td>0.0</td>\n",
       "      <td>1.0</td>\n",
       "      <td>0.0</td>\n",
       "      <td>0.0</td>\n",
       "      <td>0.0</td>\n",
       "      <td>0.0</td>\n",
       "      <td>0.0</td>\n",
       "      <td>0.0</td>\n",
       "    </tr>\n",
       "    <tr>\n",
       "      <th>1</th>\n",
       "      <td>25.525000</td>\n",
       "      <td>1011.250000</td>\n",
       "      <td>86.750000</td>\n",
       "      <td>1.000000</td>\n",
       "      <td>48.125000</td>\n",
       "      <td>0.0</td>\n",
       "      <td>18.250000</td>\n",
       "      <td>20121002</td>\n",
       "      <td>1.0</td>\n",
       "      <td>1.0</td>\n",
       "      <td>0.0</td>\n",
       "      <td>0.0</td>\n",
       "      <td>0.0</td>\n",
       "      <td>0.0</td>\n",
       "      <td>0.0</td>\n",
       "      <td>0.0</td>\n",
       "    </tr>\n",
       "    <tr>\n",
       "      <th>2</th>\n",
       "      <td>28.836500</td>\n",
       "      <td>1011.850000</td>\n",
       "      <td>71.500000</td>\n",
       "      <td>0.950000</td>\n",
       "      <td>59.250000</td>\n",
       "      <td>0.0</td>\n",
       "      <td>11.300000</td>\n",
       "      <td>20121003</td>\n",
       "      <td>1.0</td>\n",
       "      <td>1.0</td>\n",
       "      <td>0.0</td>\n",
       "      <td>0.0</td>\n",
       "      <td>0.0</td>\n",
       "      <td>0.0</td>\n",
       "      <td>0.0</td>\n",
       "      <td>0.0</td>\n",
       "    </tr>\n",
       "    <tr>\n",
       "      <th>3</th>\n",
       "      <td>30.363478</td>\n",
       "      <td>1011.695652</td>\n",
       "      <td>69.782609</td>\n",
       "      <td>0.956522</td>\n",
       "      <td>44.782609</td>\n",
       "      <td>0.0</td>\n",
       "      <td>12.000000</td>\n",
       "      <td>20121004</td>\n",
       "      <td>1.0</td>\n",
       "      <td>1.0</td>\n",
       "      <td>0.0</td>\n",
       "      <td>0.0</td>\n",
       "      <td>0.0</td>\n",
       "      <td>0.0</td>\n",
       "      <td>0.0</td>\n",
       "      <td>1.0</td>\n",
       "    </tr>\n",
       "    <tr>\n",
       "      <th>4</th>\n",
       "      <td>30.034444</td>\n",
       "      <td>1011.277778</td>\n",
       "      <td>68.611111</td>\n",
       "      <td>1.666667</td>\n",
       "      <td>52.777778</td>\n",
       "      <td>0.0</td>\n",
       "      <td>11.611111</td>\n",
       "      <td>20121005</td>\n",
       "      <td>1.0</td>\n",
       "      <td>1.0</td>\n",
       "      <td>0.0</td>\n",
       "      <td>0.0</td>\n",
       "      <td>0.0</td>\n",
       "      <td>1.0</td>\n",
       "      <td>0.0</td>\n",
       "      <td>1.0</td>\n",
       "    </tr>\n",
       "  </tbody>\n",
       "</table>\n",
       "</div>"
      ],
      "text/plain": [
       "        temp      pressao   humidade  veloc_vento     nuvens  chuva/3h  \\\n",
       "0  35.200000  1013.000000  45.000000     1.000000  80.000000       0.0   \n",
       "1  25.525000  1011.250000  86.750000     1.000000  48.125000       0.0   \n",
       "2  28.836500  1011.850000  71.500000     0.950000  59.250000       0.0   \n",
       "3  30.363478  1011.695652  69.782609     0.956522  44.782609       0.0   \n",
       "4  30.034444  1011.277778  68.611111     1.666667  52.777778       0.0   \n",
       "\n",
       "        hora      data  Clear  Clouds  Drizzle  Fog  Mist  Rain  Smoke  \\\n",
       "0  14.000000  20121001    0.0     1.0      0.0  0.0   0.0   0.0    0.0   \n",
       "1  18.250000  20121002    1.0     1.0      0.0  0.0   0.0   0.0    0.0   \n",
       "2  11.300000  20121003    1.0     1.0      0.0  0.0   0.0   0.0    0.0   \n",
       "3  12.000000  20121004    1.0     1.0      0.0  0.0   0.0   0.0    0.0   \n",
       "4  11.611111  20121005    1.0     1.0      0.0  0.0   0.0   1.0    0.0   \n",
       "\n",
       "   Thunderstorm  \n",
       "0           0.0  \n",
       "1           0.0  \n",
       "2           0.0  \n",
       "3           1.0  \n",
       "4           1.0  "
      ]
     },
     "execution_count": 161,
     "metadata": {},
     "output_type": "execute_result"
    }
   ],
   "source": [
    "base_OH.head()"
   ]
  },
  {
   "cell_type": "code",
   "execution_count": 162,
   "metadata": {},
   "outputs": [],
   "source": [
    "base_OH.to_csv('base_metereologica_tratada_OneHot.csv')"
   ]
  },
  {
   "cell_type": "markdown",
   "metadata": {},
   "source": [
    "### Característica 'clima' tratada com Labels"
   ]
  },
  {
   "cell_type": "code",
   "execution_count": 17,
   "metadata": {},
   "outputs": [],
   "source": [
    "# substitui por números\n",
    "base_LE = base.copy()\n",
    "label_encoder = LabelEncoder()\n",
    "base_LE['clima'] = LabelEncoder().fit_transform(base_LE['clima'])"
   ]
  },
  {
   "cell_type": "code",
   "execution_count": 18,
   "metadata": {
    "scrolled": true
   },
   "outputs": [
    {
     "data": {
      "text/html": [
       "<div>\n",
       "<style scoped>\n",
       "    .dataframe tbody tr th:only-of-type {\n",
       "        vertical-align: middle;\n",
       "    }\n",
       "\n",
       "    .dataframe tbody tr th {\n",
       "        vertical-align: top;\n",
       "    }\n",
       "\n",
       "    .dataframe thead th {\n",
       "        text-align: right;\n",
       "    }\n",
       "</style>\n",
       "<table border=\"1\" class=\"dataframe\">\n",
       "  <thead>\n",
       "    <tr style=\"text-align: right;\">\n",
       "      <th></th>\n",
       "      <th>temp</th>\n",
       "      <th>pressao</th>\n",
       "      <th>humidade</th>\n",
       "      <th>veloc_vento</th>\n",
       "      <th>nuvens</th>\n",
       "      <th>clima</th>\n",
       "      <th>data</th>\n",
       "      <th>chuva/3h</th>\n",
       "      <th>hora</th>\n",
       "    </tr>\n",
       "  </thead>\n",
       "  <tbody>\n",
       "    <tr>\n",
       "      <th>0</th>\n",
       "      <td>24.15</td>\n",
       "      <td>1014</td>\n",
       "      <td>0</td>\n",
       "      <td>7</td>\n",
       "      <td>80</td>\n",
       "      <td>5</td>\n",
       "      <td>20121001</td>\n",
       "      <td>0.0</td>\n",
       "      <td>12</td>\n",
       "    </tr>\n",
       "    <tr>\n",
       "      <th>1</th>\n",
       "      <td>35.20</td>\n",
       "      <td>1013</td>\n",
       "      <td>45</td>\n",
       "      <td>1</td>\n",
       "      <td>80</td>\n",
       "      <td>0</td>\n",
       "      <td>20121001</td>\n",
       "      <td>0.0</td>\n",
       "      <td>14</td>\n",
       "    </tr>\n",
       "    <tr>\n",
       "      <th>2</th>\n",
       "      <td>22.15</td>\n",
       "      <td>1015</td>\n",
       "      <td>100</td>\n",
       "      <td>2</td>\n",
       "      <td>75</td>\n",
       "      <td>1</td>\n",
       "      <td>20121002</td>\n",
       "      <td>0.0</td>\n",
       "      <td>14</td>\n",
       "    </tr>\n",
       "    <tr>\n",
       "      <th>3</th>\n",
       "      <td>23.15</td>\n",
       "      <td>1014</td>\n",
       "      <td>94</td>\n",
       "      <td>0</td>\n",
       "      <td>40</td>\n",
       "      <td>1</td>\n",
       "      <td>20121002</td>\n",
       "      <td>0.0</td>\n",
       "      <td>15</td>\n",
       "    </tr>\n",
       "    <tr>\n",
       "      <th>4</th>\n",
       "      <td>24.15</td>\n",
       "      <td>1014</td>\n",
       "      <td>94</td>\n",
       "      <td>2</td>\n",
       "      <td>40</td>\n",
       "      <td>1</td>\n",
       "      <td>20121002</td>\n",
       "      <td>0.0</td>\n",
       "      <td>16</td>\n",
       "    </tr>\n",
       "  </tbody>\n",
       "</table>\n",
       "</div>"
      ],
      "text/plain": [
       "    temp  pressao  humidade  veloc_vento  nuvens  clima      data  chuva/3h  \\\n",
       "0  24.15     1014         0            7      80      5  20121001       0.0   \n",
       "1  35.20     1013        45            1      80      0  20121001       0.0   \n",
       "2  22.15     1015       100            2      75      1  20121002       0.0   \n",
       "3  23.15     1014        94            0      40      1  20121002       0.0   \n",
       "4  24.15     1014        94            2      40      1  20121002       0.0   \n",
       "\n",
       "   hora  \n",
       "0    12  \n",
       "1    14  \n",
       "2    14  \n",
       "3    15  \n",
       "4    16  "
      ]
     },
     "execution_count": 18,
     "metadata": {},
     "output_type": "execute_result"
    }
   ],
   "source": [
    "base_LE.head()"
   ]
  },
  {
   "cell_type": "code",
   "execution_count": 41,
   "metadata": {},
   "outputs": [],
   "source": [
    "base_LE.to_csv('base_metereologica_tratada_LabelEncoder.csv')"
   ]
  }
 ],
 "metadata": {
  "kernelspec": {
   "display_name": "Python 3",
   "language": "python",
   "name": "python3"
  },
  "language_info": {
   "codemirror_mode": {
    "name": "ipython",
    "version": 3
   },
   "file_extension": ".py",
   "mimetype": "text/x-python",
   "name": "python",
   "nbconvert_exporter": "python",
   "pygments_lexer": "ipython3",
   "version": "3.6.9"
  }
 },
 "nbformat": 4,
 "nbformat_minor": 2
}
